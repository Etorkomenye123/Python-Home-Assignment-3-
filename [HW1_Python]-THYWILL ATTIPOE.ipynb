{
  "metadata": {
    "kernelspec": {
      "name": "python",
      "display_name": "Python (Pyodide)",
      "language": "python"
    },
    "language_info": {
      "codemirror_mode": {
        "name": "python",
        "version": 3
      },
      "file_extension": ".py",
      "mimetype": "text/x-python",
      "name": "python",
      "nbconvert_exporter": "python",
      "pygments_lexer": "ipython3",
      "version": "3.8"
    }
  },
  "nbformat_minor": 5,
  "nbformat": 4,
  "cells": [
    {
      "id": "8f868eb6",
      "cell_type": "markdown",
      "source": "# Homework 1 - Python\n\nFirst Name: THYWILL\n\nLast Name: ATTIPOE\n\nGroup: -\n\n### After the assigment is done, please, push it to your [private GitHub repository](https://docs.github.com/en/github/administering-a-repository/managing-repository-settings/setting-repository-visibility) and invite [Majid-Sohrabi](https://github.com/Majid-Sohrabi)  as [collaborator](https://docs.github.com/en/account-and-profile/setting-up-and-managing-your-github-user-account/managing-access-to-your-personal-repositories/inviting-collaborators-to-a-personal-repository).",
      "metadata": {}
    },
    {
      "id": "f47683d8",
      "cell_type": "markdown",
      "source": "## Task 1  (0.5 point)\n\nWrite a program that takes two numbers as input and prints whether the first number is greater than, less than, or equal to the second number.",
      "metadata": {}
    },
    {
      "id": "2d62ba3d",
      "cell_type": "code",
      "source": "num1 = float(input(\"Enter the first number: \"))\nnum2 = float(input(\"Enter the second number: \"))\n\n\nif num1 > num2:\n    print(f\"{num1} is greater than {num2}.\")\nelif num1 < num2:\n    print(f\"{num1} is less than {num2}.\")\nelse:\n    print(f\"{num1} is equal to {num2}.\")",
      "metadata": {
        "trusted": true,
        "collapsed": true,
        "jupyter": {
          "outputs_hidden": true
        }
      },
      "outputs": [
        {
          "ename": "<class 'TypeError'>",
          "evalue": "float() argument must be a string or a real number, not 'PyodideFuture'",
          "traceback": [
            "\u001b[0;31m---------------------------------------------------------------------------\u001b[0m",
            "\u001b[0;31mTypeError\u001b[0m                                 Traceback (most recent call last)",
            "Cell \u001b[0;32mIn[18], line 1\u001b[0m\n\u001b[0;32m----> 1\u001b[0m num1 \u001b[38;5;241m=\u001b[39m \u001b[38;5;28;43mfloat\u001b[39;49m\u001b[43m(\u001b[49m\u001b[38;5;28;43minput\u001b[39;49m\u001b[43m(\u001b[49m\u001b[38;5;124;43m\"\u001b[39;49m\u001b[38;5;124;43mEnter the first number: \u001b[39;49m\u001b[38;5;124;43m\"\u001b[39;49m\u001b[43m)\u001b[49m\u001b[43m)\u001b[49m\n\u001b[1;32m      2\u001b[0m num2 \u001b[38;5;241m=\u001b[39m \u001b[38;5;28mfloat\u001b[39m(\u001b[38;5;28minput\u001b[39m(\u001b[38;5;124m\"\u001b[39m\u001b[38;5;124mEnter the second number: \u001b[39m\u001b[38;5;124m\"\u001b[39m))\n\u001b[1;32m      5\u001b[0m \u001b[38;5;28;01mif\u001b[39;00m num1 \u001b[38;5;241m>\u001b[39m num2:\n",
            "\u001b[0;31mTypeError\u001b[0m: float() argument must be a string or a real number, not 'PyodideFuture'"
          ],
          "output_type": "error"
        },
        {
          "output_type": "stream",
          "name": "stdin",
          "text": "Enter the first number:  5 6\n"
        }
      ],
      "execution_count": 18
    },
    {
      "id": "d03af2f7",
      "cell_type": "markdown",
      "source": "## Task 2 (0.5 point)\n\nWrite a program that receives a positive integer `N` from the user, the task is to find following formula:\n\n$$\n1^2 + 2^3 + 3^2 + ... + N^2 (or N^3)\n$$\n\n1. If the number is odd then rais to the power of 2.\n2. If the numner is even then rais to the power of 3.\n\n\nExample:\n\n$$\nN = 5\n$$\n\n$$\n1^2 + 2^3 + 3^2 + 4^3 + 5^2 = (1 + 8 + 9 + 64 + 25) = 107\n$$\n",
      "metadata": {}
    },
    {
      "id": "53894434",
      "cell_type": "code",
      "source": "def calculate_sum(N):\n    total_sum = 0\n    for i in range(1, N+1):\n        if i % 2 == 0:  # If the number is even\n            total_sum += i  **3\n        else:           # If the number is odd\n            total_sum += i  **2\n    return total_sum\n\nN = 6\n\nresult = calculate_sum(N)\nprint(\"The sum is:\", result)",
      "metadata": {
        "trusted": true
      },
      "outputs": [
        {
          "name": "stdout",
          "text": "The sum is: 323\n",
          "output_type": "stream"
        }
      ],
      "execution_count": 4
    },
    {
      "id": "89040ea7",
      "cell_type": "markdown",
      "source": "## Task 3  (0.5 points)\n\nWrite a python program to rotate the elements of an array with an arbitrary direction (left or right) and arbitrary number or elements.\n\n1. The user need to insert the term ('left' or 'right') which shows the direction of the rotation.\n2. The user need to insert the number d which specifies how many elements need to be rotated.\n\nExample:\n\n```\nList (array) = [1, 2, 3, 4, 5, 6, 7]\n\nif left shift by 2 elements:\n\nOoutput = [3, 4, 5, 6, 7, 1, 2] \n```",
      "metadata": {}
    },
    {
      "id": "782170f2",
      "cell_type": "code",
      "source": "def rotate_array(arr, direction, d):\n    n = len(arr)\n    if direction == 'left':\n        d = d % n\n        arr = arr[d:] + arr[:d]\n    elif direction == 'right':\n        d = d % n\n        arr = arr[-d:] + arr[:-d]\n    return arr\n\n\narr = [1, 3, 6, 9, 11]\n\n\ndirection = 'left'  # or 'right'\nd = 2\n\n\nrotated_array = rotate_array(arr, direction, d)\nprint(\"Original array:\", arr)\nprint(\"Rotated array:\", rotated_array)",
      "metadata": {
        "trusted": true
      },
      "outputs": [
        {
          "name": "stdout",
          "text": "Original array: [1, 3, 6, 9, 11]\nRotated array: [6, 9, 11, 1, 3]\n",
          "output_type": "stream"
        }
      ],
      "execution_count": 5
    },
    {
      "id": "9f0f0213",
      "cell_type": "markdown",
      "source": "## Task 4  (0.5 points)\n\nWrite a program that takes an integer as input and prints whether it is even or odd.",
      "metadata": {}
    },
    {
      "id": "c79ed191",
      "cell_type": "code",
      "source": "def check_even_odd(num):\n    if num % 2 == 0:\n        print(f\"{num} is even.\")\n    else:\n        print(f\"{num} is odd.\")\n\nnum = 99\n\ncheck_even_odd(num)",
      "metadata": {
        "trusted": true
      },
      "outputs": [
        {
          "name": "stdout",
          "text": "99 is odd.\n",
          "output_type": "stream"
        }
      ],
      "execution_count": 6
    },
    {
      "id": "8a0edbe2",
      "cell_type": "markdown",
      "source": "## Task 5  (0.5 point)\n\nWrite a program that splits a list by an index inserted by the user, then cut the list from that index and attach the right part to the beginning of the list.\n\nExample:\n\n\nlist: [1, 2, 3, 4, **5, 6, 7**]\n\nnew list: [**5, 6, 7**, 1, 2, 3, 4]",
      "metadata": {}
    },
    {
      "id": "5414b2cf",
      "cell_type": "code",
      "source": "def split_and_attach(lst, index):\n    if index < 0 or index >= len(lst):\n        print(\"Index out of range.\")\n        return lst\n    else:\n        return lst[index:] + lst[:index]\n\nlst = [9, 11, 13, 15, 17, 19]\nindex = 3\n\nnew_list = split_and_attach(lst, index)\nprint(\"New list:\", new_list)",
      "metadata": {
        "trusted": true
      },
      "outputs": [
        {
          "name": "stdout",
          "text": "New list: [15, 17, 19, 9, 11, 13]\n",
          "output_type": "stream"
        }
      ],
      "execution_count": 7
    },
    {
      "id": "63c550f5",
      "cell_type": "markdown",
      "source": "## Task 6  (0.5 point)\n\nWrite a program that takes a numeric grade as input and prints the corresponding letter grade (A, B, C, D, or F) according to the following criteria: A: 90-100, B: 80-89, C: 70-79, D: 60-69, F: 0-59.",
      "metadata": {}
    },
    {
      "id": "90fcc676",
      "cell_type": "code",
      "source": "def numeric_to_letter_grade(grade):\n    if grade >= 90:\n        return 'A'\n    elif grade >= 80:\n        return 'B'\n    elif grade >= 70:\n        return 'C'\n    elif grade >= 60:\n        return 'D'\n    else:\n        return 'F'\n\nnumeric_grade = 74\n\nletter_grade = numeric_to_letter_grade(numeric_grade)\n\nprint(f\"The corresponding letter grade for {numeric_grade} is {letter_grade}.\")",
      "metadata": {
        "trusted": true
      },
      "outputs": [
        {
          "name": "stdout",
          "text": "The corresponding letter grade for 74 is C.\n",
          "output_type": "stream"
        }
      ],
      "execution_count": 8
    },
    {
      "id": "fb3f7250",
      "cell_type": "markdown",
      "source": "## Task 7  (0.5 point)\n\nWrite a program that takes a year as input and prints whether it is a leap year or not. Leap years are divisible by 4, but not by 100 unless also divisible by 400.",
      "metadata": {}
    },
    {
      "id": "159f06e3",
      "cell_type": "code",
      "source": "def is_leap_year(year):\n    if (year % 4 == 0 and year % 100 != 0) or (year % 400 == 0):\n        return True\n    else:\n        return False\n\nyear = 2017\n\nif is_leap_year(year):\n    print(f\"{year} is a leap year.\")\nelse:\n    print(f\"{year} is not a leap year.\")",
      "metadata": {
        "trusted": true
      },
      "outputs": [
        {
          "name": "stdout",
          "text": "2017 is not a leap year.\n",
          "output_type": "stream"
        }
      ],
      "execution_count": 9
    },
    {
      "id": "7e46ae74",
      "cell_type": "markdown",
      "source": "## Task 8  (0.5 point)\n\nWrite a program that takes a number as input and prints whether it falls within the range of 1 to 100 (inclusive).",
      "metadata": {}
    },
    {
      "id": "142d9d7a",
      "cell_type": "code",
      "source": "def check_number_range(num):\n    if 1 <= num <= 100:\n        print(f\"The number {num} falls within the range of 1 to 100.\")\n    else:\n        print(f\"The number {num} does not fall within the range of 1 to 100.\")\n\nnum = 73\n\ncheck_number_range(num)",
      "metadata": {
        "trusted": true
      },
      "outputs": [
        {
          "name": "stdout",
          "text": "The number 73 falls within the range of 1 to 100.\n",
          "output_type": "stream"
        }
      ],
      "execution_count": 10
    },
    {
      "id": "d1d75ffd",
      "cell_type": "markdown",
      "source": "## Task 9  (0.5 point)\n\nWrite a program that takes a character (letter) as input and prints whether it is a vowel or a consonant.",
      "metadata": {}
    },
    {
      "id": "dec0c2b5",
      "cell_type": "code",
      "source": "def check_vowel_or_consonant(char):\n    vowels = 'aeiouAEIOU'\n    if char.isalpha() and len(char) == 1:\n        if char in vowels:\n            print(f\"The character '{char}' is a vowel.\")\n        else:\n            print(f\"The character '{char}' is a consonant.\")\n    else:\n        print(\"Invalid input. Please enter a single letter.\")\n\nletter = 'a'\n\ncheck_vowel_or_consonant(letter)",
      "metadata": {
        "trusted": true
      },
      "outputs": [
        {
          "name": "stdout",
          "text": "The character 'a' is a vowel.\n",
          "output_type": "stream"
        }
      ],
      "execution_count": 15
    },
    {
      "id": "f026862b",
      "cell_type": "markdown",
      "source": "## Task 10  (0.5 point)\n\nWrite a program that takes a number representing a day of the week (1 for Monday, 2 for Tuesday, etc.) and prints the corresponding day name.",
      "metadata": {}
    },
    {
      "id": "139ad2ab",
      "cell_type": "code",
      "source": "def get_day_name(day_number):\n    days_of_week = {\n        1: 'Monday',\n        2: 'Tuesday',\n        3: 'Wednesday',\n        4: 'Thursday',\n        5: 'Friday',\n        6: 'Saturday',\n        7: 'Sunday'\n    }\n    if day_number in days_of_week:\n        return days_of_week[day_number]\n    else:\n        return \"Invalid day number. Please enter a number between 1 and 7.\"\n\nday_number = 4\n\nday_name = get_day_name(day_number)\n\nprint(f\"The corresponding day name for {day_number} is {day_name}.\")",
      "metadata": {
        "trusted": true
      },
      "outputs": [
        {
          "name": "stdout",
          "text": "The corresponding day name for 4 is Thursday.\n",
          "output_type": "stream"
        }
      ],
      "execution_count": 16
    },
    {
      "id": "a5d5794d-0005-438b-aa7c-2dd25b26a54d",
      "cell_type": "code",
      "source": "",
      "metadata": {
        "trusted": true
      },
      "outputs": [],
      "execution_count": null
    }
  ]
}